{
  "cells": [
    {
      "cell_type": "markdown",
      "metadata": {
        "id": "view-in-github",
        "colab_type": "text"
      },
      "source": [
        "<a href=\"https://colab.research.google.com/github/mintchococ/SOFT/blob/main/homework1_question_for_student_ipynb%EC%9D%98_%EC%82%AC%EB%B3%B8.ipynb\" target=\"_parent\"><img src=\"https://colab.research.google.com/assets/colab-badge.svg\" alt=\"Open In Colab\"/></a>"
      ]
    },
    {
      "cell_type": "code",
      "execution_count": null,
      "metadata": {
        "id": "fWqbbHUOknuS"
      },
      "outputs": [],
      "source": [
        "import numpy as np\n",
        "import pandas as pd\n",
        "\n",
        "np.set_printoptions(precision=6, suppress=True)\n",
        "PREVIOUS_MAX_ROWS = pd.options.display.max_rows # 원래 60이 기본.\n",
        "pd.set_option(\"display.max_rows\", 20)"
      ]
    },
    {
      "cell_type": "markdown",
      "metadata": {
        "id": "vN2D9cmLHZ3_"
      },
      "source": [
        "# 과제1"
      ]
    },
    {
      "cell_type": "markdown",
      "metadata": {
        "id": "L_UH4Ja_knuT"
      },
      "source": [
        "본 과제에서는 보스턴 시의 506개 구역에 대한 통계 자료를 담고 있는 데이터를 이용한다.\n",
        "우선 보스턴 데이터를 다운 받고 준비한다."
      ]
    },
    {
      "cell_type": "code",
      "source": [
        "data_url = \"http://lib.stat.cmu.edu/datasets/boston\"\n",
        "raw_df = pd.read_csv(data_url, sep=\"\\s+\", skiprows=22, header=None)\n",
        "boston = np.hstack([raw_df.values[::2, :], raw_df.values[1::2, :2]])"
      ],
      "metadata": {
        "id": "lZLUsYx8IM5m"
      },
      "execution_count": null,
      "outputs": []
    },
    {
      "cell_type": "markdown",
      "metadata": {
        "id": "bINA4M2jknuU"
      },
      "source": [
        "`boston`의 자료형을 확인한다."
      ]
    },
    {
      "cell_type": "code",
      "execution_count": null,
      "metadata": {
        "id": "u9yRwUMkknuU",
        "colab": {
          "base_uri": "https://localhost:8080/"
        },
        "outputId": "92046807-bdcc-423f-c7a3-5512a70e49c4"
      },
      "outputs": [
        {
          "output_type": "execute_result",
          "data": {
            "text/plain": [
              "numpy.ndarray"
            ]
          },
          "metadata": {},
          "execution_count": 32
        }
      ],
      "source": [
        "type(boston)"
      ]
    },
    {
      "cell_type": "markdown",
      "metadata": {
        "id": "FvZ9G01GknuU"
      },
      "source": [
        "#### 문제 1 (5점)"
      ]
    },
    {
      "cell_type": "markdown",
      "metadata": {
        "id": "eAPWFEBXknuU"
      },
      "source": [
        "`boston`은 총 몇 행 몇 열로 구성되어 있는지 확인해서 아래 답) 란에 쓰시오."
      ]
    },
    {
      "cell_type": "code",
      "source": [
        "boston.shape"
      ],
      "metadata": {
        "id": "zTr2r98iyaRK",
        "colab": {
          "base_uri": "https://localhost:8080/"
        },
        "outputId": "a660ec75-3873-4b44-8aae-f1f729757bad"
      },
      "execution_count": null,
      "outputs": [
        {
          "output_type": "execute_result",
          "data": {
            "text/plain": [
              "(506, 13)"
            ]
          },
          "metadata": {},
          "execution_count": 33
        }
      ]
    },
    {
      "cell_type": "markdown",
      "source": [],
      "metadata": {
        "id": "1-CLMeDwyZwD"
      }
    },
    {
      "cell_type": "markdown",
      "metadata": {
        "id": "RkCLEXc8knuV"
      },
      "source": [
        "답) (506,13)"
      ]
    },
    {
      "cell_type": "markdown",
      "metadata": {
        "id": "2Sid9EiOknuV"
      },
      "source": [
        "`boston` 데이터는 13개 특성들로 구성되며, 각 특성의 이름 및 의미는 다음과 같다."
      ]
    },
    {
      "cell_type": "markdown",
      "metadata": {
        "id": "amZIvE0GknuV"
      },
      "source": [
        "| 특성 | 의미 |\n",
        "|:------|:---------|\n",
        "| CRIM  | 구역별 1인당 범죄율 |\n",
        "| ZN    | 25,000 평방 피트 이상의 주거 구역 비율 |\n",
        "| INDUS | 구역별 비 소매 사업 에이커(acre) 비율 |\n",
        "| CHAS  | Charles River 더미 변수(구역이 강 경계에 닿으면 1, 아니면 0) |\n",
        "| NOX   | 산화 질소 농도(1000만분 율) |\n",
        "| RM    | 주택 당 평균 방 수 |\n",
        "| AGE   | 소유주가 살고 있는 1940년 이전에 지어진 건물 비율 |\n",
        "| DIS   | 보스턴 고용 센터 다섯 곳 까지의 가중 거리 |\n",
        "| RAD   | 방사형 고속도로 접근성 지수 |\n",
        "| TAX   | 1만달러당 전체 가지 재산 세율 |\n",
        "| PTRATIO | 구역별 학생-교사 비율 |\n",
        "| B     | 1000(Bk - 0.63)^2 (Bk 구역별 흑인 비율) |\n",
        "| LSTAT | 구역별 낮은 지위 인구 비율 |"
      ]
    },
    {
      "cell_type": "code",
      "source": [
        "boston_feature_names = ['CRIM', 'ZN', 'INDUS', 'CHAS', 'NOX', 'RM', 'AGE', 'DIS', 'RAD', 'TAX', 'PTRATIO', 'B', 'LSTAT']"
      ],
      "metadata": {
        "id": "8-SiC2pRLVku"
      },
      "execution_count": null,
      "outputs": []
    },
    {
      "cell_type": "markdown",
      "metadata": {
        "id": "3FThQ7TfknuW"
      },
      "source": [
        "`boston_feature_names`를 사용하여 각 column의 이름을 지정하면서 `boston`을 데이터프레임으로 변환한다."
      ]
    },
    {
      "cell_type": "code",
      "execution_count": null,
      "metadata": {
        "id": "RFiR0PI8knuW"
      },
      "outputs": [],
      "source": [
        "boston = pd.DataFrame(boston, columns=boston_feature_names)"
      ]
    },
    {
      "cell_type": "markdown",
      "metadata": {
        "id": "V7m3QWG4knuX"
      },
      "source": [
        "원래는 결측치가 존재하지 않지만 아래처럼 의도적으로 5개의 결측치를 만든다.\n",
        "대상은 특성 RM(주택당 평균 방수 특성)의 100번에서 104번 행이다."
      ]
    },
    {
      "cell_type": "code",
      "execution_count": null,
      "metadata": {
        "id": "CcVTMjWMknuX"
      },
      "outputs": [],
      "source": [
        "boston['RM'][100:105] = np.nan"
      ]
    },
    {
      "cell_type": "markdown",
      "metadata": {
        "id": "eO9-sMuFknuX"
      },
      "source": [
        "#### 문제 2 (10점)"
      ]
    },
    {
      "cell_type": "markdown",
      "metadata": {
        "id": "3daJwAEPknuX"
      },
      "source": [
        "보스턴 전체 데이터셋에서 수치상으로 5개의 값만 결측치임을 보여주는 표현식을 작성하라."
      ]
    },
    {
      "cell_type": "code",
      "execution_count": null,
      "metadata": {
        "id": "BzGku98dknuX"
      },
      "outputs": [],
      "source": [
        "# 다음 코드가 정상적으로 실행될 수 있도록 None을 적절한 코드/표현식으로 대체하라.\n",
        "# assert 오른쪽의 조건식이 참을 리턴하는 경우에만 정상적으로 실행이 진행되며, 조건식의 결과가 거짓일 경우에는 exception이 발생한다.\n",
        "# 따라서 아래 조건식이 참을 리턴하도록 None 부분을 적절한 코드로 대체해야 한다. 나머지 코드 셀의 assert에 대해서도 마찬가지이다.\n",
        "\n",
        "assert boston.loc[boston.isnull().any(axis=1)].index.size == 5\n",
        "\n"
      ]
    },
    {
      "cell_type": "markdown",
      "metadata": {
        "id": "LmuMHy5hknuX"
      },
      "source": [
        "#### 문제 3 (5점)"
      ]
    },
    {
      "cell_type": "markdown",
      "metadata": {
        "id": "B4F39sIcknuX"
      },
      "source": [
        "결측치가 포함된 행으로만 이루어진 데이터프레임을 가리키는 `boston_with_nan`을 정의하라."
      ]
    },
    {
      "cell_type": "code",
      "execution_count": null,
      "metadata": {
        "id": "WAT2pk7sknuX"
      },
      "outputs": [],
      "source": [
        "# 다음 코드가 정상적으로 실행될 수 있도록 None을 적절한 코드로 대체하라.\n",
        "#결과가 true로 리턴되게\n",
        "\n",
        "boston_with_nan = boston[boston.isnull().any(axis=1)]\n",
        "assert boston_with_nan.shape == (5, 13)\n",
        "\n"
      ]
    },
    {
      "cell_type": "markdown",
      "metadata": {
        "id": "PEYuTAA8knuX"
      },
      "source": [
        "#### 문제 4 (5점)"
      ]
    },
    {
      "cell_type": "markdown",
      "metadata": {
        "id": "6dM5BWarknuX"
      },
      "source": [
        "결측치가 들어있는 행을 제외한 데이터프레임을 가리키는 `boston_without_nan`을 정의하라."
      ]
    },
    {
      "cell_type": "code",
      "execution_count": null,
      "metadata": {
        "id": "NN_Vgpz8knuY"
      },
      "outputs": [],
      "source": [
        "# 다음 코드가 정상적으로 실행될 수 있도록 None을 적절한 코드로 대체하라.\n",
        "\n",
        "boston_without_nan = boston[boston.notnull().all(axis=1)]\n",
        "assert boston_without_nan.shape == (501, 13)\n"
      ]
    },
    {
      "cell_type": "markdown",
      "metadata": {
        "id": "i2tD1j-KknuY"
      },
      "source": [
        "#### 문제 5 (5점)"
      ]
    },
    {
      "cell_type": "markdown",
      "metadata": {
        "id": "9N542He8knuY"
      },
      "source": [
        "`boston_with_nan`이 가리키는 데이터프레임에 사용된 결측치(`NaN`)를 모두 해당 특성의 평균값(mean)으로 대체하라. 즉,\n",
        "`NaN`이 실제로 대체되어야 한다. (경고가 발생하더라도 무시한다.)"
      ]
    },
    {
      "cell_type": "code",
      "execution_count": null,
      "metadata": {
        "id": "nmqt35DYknuY"
      },
      "outputs": [],
      "source": [
        "# boston_with_nan 데이터프레임에 포함된 모든 결측치를 RM 특성의 결측치가 아닌 나머지 모든 값들의 평균값으로 대체해야 함.\n",
        "# pass를 적절한 코드로 대체할 것.\n",
        "\n",
        "boston_with_nan1 = boston_with_nan.copy()\n",
        "boston_with_nan1['RM'].fillna(boston['RM'].mean(), inplace=True)\n",
        "boston_with_nan = boston_with_nan1.copy()\n",
        "assert boston_with_nan.isnull().all().all() == False\n",
        "\n",
        "# boston_with_nan 데이터프레임에 더 이상 결측치가 존재하지 않을 입증해야 함.\n",
        "# None을 적절한 표현식으로 대체할 것.\n"
      ]
    },
    {
      "cell_type": "markdown",
      "metadata": {
        "id": "ObqCGxNkknuY"
      },
      "source": [
        "#### 문제 6 (10점)"
      ]
    },
    {
      "cell_type": "markdown",
      "metadata": {
        "id": "GxaEZms2knub"
      },
      "source": [
        "`AGE` 특성의 값들에서 소수점 이하를 버리고 남은 정수값(int)만 이용하는 `AGE_Year` 특성을 추가하라. 즉, 소수점 이하를 버리고 정수형(int)으로 형변환된 값을 이용해야 한다. 정수로 형변환을 위해서는 `astype()` 함수를 사용할 수 있다."
      ]
    },
    {
      "cell_type": "code",
      "execution_count": null,
      "metadata": {
        "id": "trKRyQ4Tknub"
      },
      "outputs": [],
      "source": [
        "# 다음 코드가 정상적으로 실행될 수 있도록 pass를 적절한 코드로 대체하라.\n",
        "\n",
        "boston['AGE_Year'] = boston['AGE'].astype(int)\n",
        "\n",
        "assert ('AGE_Year' in boston.columns) == True"
      ]
    },
    {
      "cell_type": "markdown",
      "metadata": {
        "id": "cDWVFvR-knub"
      },
      "source": [
        "#### 문제 7 (5점)"
      ]
    },
    {
      "cell_type": "markdown",
      "metadata": {
        "id": "5FH1F-Aiknuc"
      },
      "source": [
        "`boston` 데이터프레임에서 `AGE` 특성을 삭제하라."
      ]
    },
    {
      "cell_type": "code",
      "execution_count": null,
      "metadata": {
        "id": "BJ1ZNjcCknuc"
      },
      "outputs": [],
      "source": [
        "# 다음 코드가 정상적으로 실행될 수 있도록 pass를 적절한 코드로 대체하라.\n",
        "\n",
        "\n",
        "del boston['AGE']\n",
        "\n",
        "assert ('AGE' in boston.columns) == False"
      ]
    }
  ],
  "metadata": {
    "colab": {
      "provenance": [],
      "include_colab_link": true
    },
    "kernelspec": {
      "display_name": "Python 3",
      "language": "python",
      "name": "python3"
    },
    "language_info": {
      "codemirror_mode": {
        "name": "ipython",
        "version": 3
      },
      "file_extension": ".py",
      "mimetype": "text/x-python",
      "name": "python",
      "nbconvert_exporter": "python",
      "pygments_lexer": "ipython3",
      "version": "3.8.5"
    }
  },
  "nbformat": 4,
  "nbformat_minor": 0
}